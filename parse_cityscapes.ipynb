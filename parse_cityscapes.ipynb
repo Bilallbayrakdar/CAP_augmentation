{
 "cells": [
  {
   "cell_type": "code",
   "execution_count": 1,
   "metadata": {},
   "outputs": [],
   "source": [
    "import os\n",
    "import cv2\n",
    "import numpy as np\n",
    "from glob import glob\n",
    "import pprint\n",
    "from pathlib import Path\n",
    "from matplotlib import pyplot as plt\n",
    "from tqdm.notebook import tqdm\n",
    "from generate_dataset import generate_object_dataset_cityscapes"
   ]
  },
  {
   "cell_type": "markdown",
   "metadata": {},
   "source": [
    "# Data generation"
   ]
  },
  {
   "cell_type": "code",
   "execution_count": null,
   "metadata": {
    "code_folding": []
   },
   "outputs": [],
   "source": [
    "def show_images(image,mask=None):\n",
    "    plt.figure(figsize=(25,25))\n",
    "    plt.imshow(image)\n",
    "    plt.title('city_image')\n",
    "    plt.show()"
   ]
  },
  {
   "cell_type": "code",
   "execution_count": null,
   "metadata": {},
   "outputs": [],
   "source": [
    "HUMAN_DATASET_ROOT = Path('/home/rauf/datasets/human_dataset/')\n",
    "RZD_DATASET_ROOT = Path('/home/rauf/datasets/rostov/')"
   ]
  },
  {
   "cell_type": "code",
   "execution_count": null,
   "metadata": {},
   "outputs": [],
   "source": [
    "source_image_name = 'aachen_000008_000019_24002_image.png'\n",
    "source_mask_name = 'aachen_000008_000019_24002_mask.png'\n",
    "dest_image_name = 'Mon_Nov_16_163751_2020/camera1/img_174124862194.png'\n",
    "\n",
    "source_image_path = HUMAN_DATASET_ROOT / source_image_name\n",
    "source_mask_path  = HUMAN_DATASET_ROOT / source_mask_name\n",
    "dest_image_name = RZD_DATASET_ROOT / dest_image_name"
   ]
  },
  {
   "cell_type": "code",
   "execution_count": null,
   "metadata": {},
   "outputs": [],
   "source": [
    "image_src = cv2.imread(str(source_image_path))\n",
    "image_dst = cv2.imread(str(dest_image_name))\n",
    "mask_src = cv2.imread(str(source_mask_path),0)\n",
    "mask_inv = cv2.bitwise_not(mask_src)"
   ]
  },
  {
   "cell_type": "code",
   "execution_count": null,
   "metadata": {},
   "outputs": [],
   "source": [
    "x_offset, y_offset = 900, 600\n",
    "y1, y2 = y_offset, y_offset + image_src.shape[0]\n",
    "x1, x2 = x_offset, x_offset + image_src.shape[1]\n",
    "\n",
    "img1_bg = cv2.bitwise_and(image_dst[y1:y2, x1:x2],image_dst[y1:y2, x1:x2],mask = mask_inv)\n",
    "img2_fg = cv2.bitwise_and(image_src,image_src,mask = mask_src)\n",
    "out_img = cv2.add(img1_bg,img2_fg)\n",
    "\n",
    "image_dst[y1:y2, x1:x2] = out_img\n",
    "\n",
    "image_dst = cv2.cvtColor(image_dst, cv2.COLOR_BGR2RGB)\n",
    "show_images(image_dst)"
   ]
  },
  {
   "cell_type": "markdown",
   "metadata": {
    "heading_collapsed": true
   },
   "source": [
    "# Filtering"
   ]
  },
  {
   "cell_type": "code",
   "execution_count": 5,
   "metadata": {
    "hidden": true
   },
   "outputs": [],
   "source": [
    "pp = pprint.PrettyPrinter(indent=2)"
   ]
  }
 ],
 "metadata": {
  "kernelspec": {
   "display_name": "Python 3",
   "language": "python",
   "name": "python3"
  },
  "language_info": {
   "codemirror_mode": {
    "name": "ipython",
    "version": 3
   },
   "file_extension": ".py",
   "mimetype": "text/x-python",
   "name": "python",
   "nbconvert_exporter": "python",
   "pygments_lexer": "ipython3",
   "version": "3.8.6"
  },
  "toc": {
   "base_numbering": 1,
   "nav_menu": {},
   "number_sections": true,
   "sideBar": true,
   "skip_h1_title": false,
   "title_cell": "Table of Contents",
   "title_sidebar": "Contents",
   "toc_cell": false,
   "toc_position": {},
   "toc_section_display": true,
   "toc_window_display": false
  },
  "varInspector": {
   "cols": {
    "lenName": 16,
    "lenType": 16,
    "lenVar": 40
   },
   "kernels_config": {
    "python": {
     "delete_cmd_postfix": "",
     "delete_cmd_prefix": "del ",
     "library": "var_list.py",
     "varRefreshCmd": "print(var_dic_list())"
    },
    "r": {
     "delete_cmd_postfix": ") ",
     "delete_cmd_prefix": "rm(",
     "library": "var_list.r",
     "varRefreshCmd": "cat(var_dic_list()) "
    }
   },
   "types_to_exclude": [
    "module",
    "function",
    "builtin_function_or_method",
    "instance",
    "_Feature"
   ],
   "window_display": false
  }
 },
 "nbformat": 4,
 "nbformat_minor": 4
}
